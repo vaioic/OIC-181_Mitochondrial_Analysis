{
 "cells": [
  {
   "cell_type": "code",
   "execution_count": null,
   "id": "67d6e01b",
   "metadata": {},
   "outputs": [],
   "source": [
    "import shutil \n",
    "from __future__ import print_function, unicode_literals, absolute_import, division\n",
    "import sys\n",
    "import numpy as np\n",
    "import matplotlib\n",
    "matplotlib.rcParams[\"image.interpolation\"] = 'none'\n",
    "import matplotlib.pyplot as plt\n",
    "%matplotlib inline\n",
    "%config InlineBackend.figure_format = 'retina'\n",
    "\n",
    "from glob import glob\n",
    "from tqdm import tqdm\n",
    "from tifffile import imread\n",
    "from csbdeep.utils import Path, normalize\n",
    "\n",
    "from stardist import fill_label_holes, random_label_cmap, calculate_extents, gputools_available\n",
    "from stardist.matching import matching, matching_dataset\n",
    "from stardist.models import Config2D, StarDist2D, StarDistData2D\n",
    "\n",
    "np.random.seed(42)\n",
    "lbl_cmap = random_label_cmap()"
   ]
  },
  {
   "cell_type": "code",
   "execution_count": null,
   "id": "c67fd279",
   "metadata": {},
   "outputs": [],
   "source": [
    "# name of your model\n",
    "name = '2D_versatile_fluo_Rings_V2'\n",
    "\n",
    "# load pretrained model and make a copy to local folder\n",
    "model_pretrained = StarDist2D(None, name='2D_versatile_fluo', basedir='models')\n",
    "shutil.copytree(model_pretrained.logdir, name)\n",
    "\n",
    "# load your duplicate of the pretrained model\n",
    "model = StarDist2D(None, name)\n"
   ]
  },
  {
   "cell_type": "code",
   "execution_count": null,
   "id": "21e452e4",
   "metadata": {},
   "outputs": [],
   "source": [
    "#load in training data\n",
    "X = sorted(glob('E:/Burton_Lab/Umanshi/OIC-181_Mitochondria_Morphology/OIC-181_Mitochondrial_Analysis/Training_Data/Images/Patches/*.tif'))\n",
    "Y = sorted(glob('E:/Burton_Lab/Umanshi/OIC-181_Mitochondria_Morphology/OIC-181_Mitochondrial_Analysis/Training_Data/Masks/Patches/*.tif'))\n",
    "assert all(Path(x).name==Path(y).name for x,y in zip(X,Y))"
   ]
  },
  {
   "cell_type": "code",
   "execution_count": null,
   "id": "39161a1d",
   "metadata": {},
   "outputs": [],
   "source": [
    "len(X)"
   ]
  },
  {
   "cell_type": "code",
   "execution_count": null,
   "id": "80d9bf11",
   "metadata": {},
   "outputs": [],
   "source": [
    "X = list(map(imread,X))\n",
    "Y = list(map(imread,Y))\n",
    "n_channel = 1"
   ]
  },
  {
   "cell_type": "code",
   "execution_count": null,
   "id": "e9ef6943",
   "metadata": {},
   "outputs": [],
   "source": [
    "axis_norm = (0,1)   # normalize channels independently\n",
    "# axis_norm = (0,1,2) # normalize channels jointly\n",
    "if n_channel > 1:\n",
    "    print(\"Normalizing image channels %s.\" % ('jointly' if axis_norm is None or 2 in axis_norm else 'independently'))\n",
    "    sys.stdout.flush()\n",
    "\n",
    "X = [normalize(x,1,99.8,axis=axis_norm) for x in tqdm(X)]\n",
    "Y = [fill_label_holes(y) for y in tqdm(Y)]"
   ]
  },
  {
   "cell_type": "code",
   "execution_count": null,
   "id": "767b5d6c",
   "metadata": {},
   "outputs": [],
   "source": [
    "assert len(X) > 1, \"not enough training data\"\n",
    "rng = np.random.RandomState(42)\n",
    "ind = rng.permutation(len(X))\n",
    "n_val = max(1, int(round(0.15 * len(ind))))\n",
    "ind_train, ind_val = ind[:-n_val], ind[-n_val:]\n",
    "X_val, Y_val = [X[i] for i in ind_val]  , [Y[i] for i in ind_val]\n",
    "X_trn, Y_trn = [X[i] for i in ind_train], [Y[i] for i in ind_train] \n",
    "print('number of images: %3d' % len(X))\n",
    "print('- training:       %3d' % len(X_trn))\n",
    "print('- validation:     %3d' % len(X_val))"
   ]
  },
  {
   "cell_type": "code",
   "execution_count": null,
   "id": "df95d7a3",
   "metadata": {},
   "outputs": [],
   "source": [
    "def random_fliprot(img, mask): \n",
    "    assert img.ndim >= mask.ndim\n",
    "    axes = tuple(range(mask.ndim))\n",
    "    perm = tuple(np.random.permutation(axes))\n",
    "    img = img.transpose(perm + tuple(range(mask.ndim, img.ndim))) \n",
    "    mask = mask.transpose(perm) \n",
    "    for ax in axes: \n",
    "        if np.random.rand() > 0.5:\n",
    "            img = np.flip(img, axis=ax)\n",
    "            mask = np.flip(mask, axis=ax)\n",
    "    return img, mask \n",
    "\n",
    "def random_intensity_change(img):\n",
    "    img = img*np.random.uniform(0.6,2) + np.random.uniform(-0.2,0.2)\n",
    "    return img\n",
    "\n",
    "\n",
    "def augmenter(x, y):\n",
    "    \"\"\"Augmentation of a single input/label image pair.\n",
    "    x is an input image\n",
    "    y is the corresponding ground-truth label image\n",
    "    \"\"\"\n",
    "    x, y = random_fliprot(x, y)\n",
    "    x = random_intensity_change(x)\n",
    "    # add some gaussian noise\n",
    "    sig = 0.02*np.random.uniform(0,1)\n",
    "    x = x + sig*np.random.normal(0,1,x.shape)\n",
    "    return x, y"
   ]
  },
  {
   "cell_type": "code",
   "execution_count": null,
   "id": "cf831cee",
   "metadata": {},
   "outputs": [],
   "source": [
    "#configs to change for training, if needed\n",
    "model.config.train_patch_size = (128,128)\n",
    "model.config.train_batch_size = 16 \n",
    "model.config.train_learning_rate = 1e-5\n",
    "model.config.train_epochs = 200\n",
    "\n",
    "# finetune on new data\n",
    "model.train(X_trn,Y_trn, validation_data=(X_val,Y_val),augmenter=augmenter)"
   ]
  },
  {
   "cell_type": "code",
   "execution_count": null,
   "id": "53d91d9f",
   "metadata": {},
   "outputs": [],
   "source": [
    "model.optimize_thresholds(X_val, Y_val)"
   ]
  },
  {
   "cell_type": "code",
   "execution_count": null,
   "id": "8793d38b",
   "metadata": {},
   "outputs": [],
   "source": [
    "Y_val_pred = [my_model.predict_instances(x, n_tiles=my_model._guess_n_tiles(x), show_tile_progress=False)[0]\n",
    "              for x in tqdm(X_val)]"
   ]
  },
  {
   "cell_type": "code",
   "execution_count": null,
   "id": "e4c23296",
   "metadata": {},
   "outputs": [],
   "source": [
    "import napari"
   ]
  },
  {
   "cell_type": "code",
   "execution_count": null,
   "id": "dc9c1522",
   "metadata": {},
   "outputs": [],
   "source": [
    "viewer = napari.view_image(X_val[2])\n",
    "viewer.add_labels(Y_val[2])"
   ]
  },
  {
   "cell_type": "code",
   "execution_count": null,
   "id": "2d4d2666",
   "metadata": {},
   "outputs": [],
   "source": [
    "full_imgs = sorted(glob(\"E:/Burton_Lab/Umanshi/OIC-181_Mitochondria_Morphology/OIC-181_Mitochondrial_Analysis/Training_Data/Images/*.tiff\"))\n",
    "full_imgs = list(map(imread,full_imgs))"
   ]
  },
  {
   "cell_type": "code",
   "execution_count": null,
   "id": "4ba96bfc",
   "metadata": {},
   "outputs": [],
   "source": [
    "full_imgs = [normalize(x,1,99.8,axis=axis_norm) for x in tqdm(full_imgs)]"
   ]
  },
  {
   "cell_type": "code",
   "execution_count": null,
   "id": "eca5f829",
   "metadata": {},
   "outputs": [],
   "source": [
    "preds = [my_model.predict_instances(x, n_tiles=my_model._guess_n_tiles(x), show_tile_progress=False)[0]\n",
    "              for x in tqdm(full_imgs)]"
   ]
  },
  {
   "cell_type": "code",
   "execution_count": null,
   "id": "e04222b3",
   "metadata": {},
   "outputs": [],
   "source": [
    "viewer = napari.view_image(full_imgs[5])\n",
    "viewer.add_labels(preds[5])"
   ]
  },
  {
   "cell_type": "code",
   "execution_count": null,
   "id": "87a3e410",
   "metadata": {},
   "outputs": [],
   "source": [
    "save_path = 'E:/Burton_Lab/Umanshi/OIC-181_Mitochondria_Morphology/OIC-181_Mitochondrial_Analysis/Training_Data/Transfer_Learning_Results/'"
   ]
  },
  {
   "cell_type": "code",
   "execution_count": null,
   "id": "72dcdd6e",
   "metadata": {},
   "outputs": [],
   "source": [
    "import skimage as sk\n",
    "import os"
   ]
  },
  {
   "cell_type": "code",
   "execution_count": null,
   "id": "343b2885",
   "metadata": {},
   "outputs": [],
   "source": [
    "c = 0\n",
    "for pred in preds:\n",
    "    sk.io.imsave(os.path.join(save_path,'Transfer_learning_img_0'+str(c)+'.tif'),pred)\n",
    "    sk.io.imsave(os.path.join(save_path,'img_0'+str(c)+'.tif'),full_imgs[c])\n",
    "    c += 1"
   ]
  },
  {
   "cell_type": "code",
   "execution_count": null,
   "id": "b93f83ff",
   "metadata": {},
   "outputs": [],
   "source": []
  }
 ],
 "metadata": {
  "kernelspec": {
   "display_name": "stardist",
   "language": "python",
   "name": "python3"
  },
  "language_info": {
   "codemirror_mode": {
    "name": "ipython",
    "version": 3
   },
   "file_extension": ".py",
   "mimetype": "text/x-python",
   "name": "python",
   "nbconvert_exporter": "python",
   "pygments_lexer": "ipython3",
   "version": "3.12.9"
  }
 },
 "nbformat": 4,
 "nbformat_minor": 5
}
