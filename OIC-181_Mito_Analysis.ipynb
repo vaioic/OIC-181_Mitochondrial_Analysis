{
 "cells": [
  {
   "cell_type": "code",
   "execution_count": null,
   "id": "ce7c4830",
   "metadata": {},
   "outputs": [],
   "source": [
    "import numpy as np\n",
    "import"
   ]
  }
 ],
 "metadata": {
  "kernelspec": {
   "display_name": "Python 3",
   "language": "python",
   "name": "python3"
  },
  "language_info": {
   "name": "python",
   "version": "3.10.16"
  }
 },
 "nbformat": 4,
 "nbformat_minor": 5
}
