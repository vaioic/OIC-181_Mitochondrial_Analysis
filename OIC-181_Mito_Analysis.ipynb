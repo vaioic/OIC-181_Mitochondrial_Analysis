{
 "cells": [
  {
   "cell_type": "code",
   "execution_count": null,
   "id": "ce7c4830",
   "metadata": {},
   "outputs": [],
   "source": [
    "from __future__ import print_function, unicode_literals, absolute_import, division\n",
    "import sys\n",
    "import numpy as np\n",
    "import matplotlib\n",
    "matplotlib.rcParams[\"image.interpolation\"] = 'none'\n",
    "import matplotlib.pyplot as plt\n",
    "%matplotlib inline\n",
    "%config InlineBackend.figure_format = 'retina'\n",
    "\n",
    "from glob import glob\n",
    "from tifffile import imread\n",
    "from csbdeep.utils import Path, normalize\n",
    "from csbdeep.io import save_tiff_imagej_compatible\n",
    "\n",
    "from stardist import random_label_cmap, _draw_polygons, export_imagej_rois\n",
    "from stardist.models import StarDist2D\n",
    "\n",
    "np.random.seed(6)\n",
    "lbl_cmap = random_label_cmap()\n",
    "\n",
    "from tqdm import tqdm\n",
    "import napari\n",
    "import skimage as sk\n",
    "import pandas as pd\n",
    "import os"
   ]
  },
  {
   "cell_type": "code",
   "execution_count": null,
   "id": "e340c37d",
   "metadata": {},
   "outputs": [],
   "source": [
    "na_50_files = Path('wt_tom20_gyp_day1_50mm _2025_05_13__15_19_27_Airyscan_Processing.czi')\n",
    "na_500_files = Path('wt_tom20_gyp_day1_500mmsaltplate_6hr_pt_2025_05_13__14_48_27_Airyscan_Processing.czi')\n"
   ]
  },
  {
   "cell_type": "code",
   "execution_count": null,
   "id": "104e02b0",
   "metadata": {},
   "outputs": [],
   "source": [
    "na_50_czi = CziFile(na_50_files)\n",
    "na_500_czi = CziFile(na_500_files)"
   ]
  },
  {
   "cell_type": "code",
   "execution_count": null,
   "id": "b2104e8d",
   "metadata": {},
   "outputs": [],
   "source": [
    "na_50_czi.size"
   ]
  },
  {
   "cell_type": "code",
   "execution_count": null,
   "id": "444f8735",
   "metadata": {},
   "outputs": [],
   "source": [
    "test_slice = np.squeeze(na_50_czi.read_image(S=0,Z=50)[0])"
   ]
  },
  {
   "cell_type": "code",
   "execution_count": null,
   "id": "04b14d7f",
   "metadata": {},
   "outputs": [],
   "source": [
    "test_slice.shape"
   ]
  },
  {
   "cell_type": "code",
   "execution_count": null,
   "id": "bc63552d",
   "metadata": {},
   "outputs": [],
   "source": [
    "test_img.shape"
   ]
  },
  {
   "cell_type": "code",
   "execution_count": null,
   "id": "d9ab12ea",
   "metadata": {},
   "outputs": [],
   "source": [
    "viewer = napari.view_image(test_slice)"
   ]
  },
  {
   "cell_type": "code",
   "execution_count": null,
   "id": "feb784d8",
   "metadata": {},
   "outputs": [],
   "source": [
    "na_50_scenes_z = [(2,50),(2,40),(2,45),(3,35),(3,30),(3,24),(5,40),(5,35),(5,45)]\n",
    "na_500_scenes_z = [(3,22),(3,25),(3,31),(4,15),(4,27),(4,34),(7,24),(7,32),(7,41)]"
   ]
  },
  {
   "cell_type": "code",
   "execution_count": null,
   "id": "55530c14",
   "metadata": {},
   "outputs": [],
   "source": [
    "na_50_path = '50_mm/TIFFs'\n",
    "na_500_path = '500_mm/TIFFs'"
   ]
  },
  {
   "cell_type": "code",
   "execution_count": null,
   "id": "4d13e177",
   "metadata": {},
   "outputs": [],
   "source": [
    "for i in na_50_scenes_z:\n",
    "    scene, z = i\n",
    "    slice = np.squeeze(na_50_czi.read_image(S=scene-1,Z=z-1)[0])\n",
    "    sk.io.imsave(os.path.join(na_50_path,'wt_tom20_gfp_day1_50mm_scene'+str(scene)+'_z'+str(z)+'.tiff'),slice,check_contrast=False)"
   ]
  },
  {
   "cell_type": "code",
   "execution_count": null,
   "id": "881e6f1b",
   "metadata": {},
   "outputs": [],
   "source": [
    "for i in na_500_scenes_z:\n",
    "    scene, z = i\n",
    "    slice = np.squeeze(na_500_czi.read_image(S=scene-1,Z=z-1)[0])\n",
    "    sk.io.imsave(os.path.join(na_500_path,'wt_tom20_gfp_day1_500mm_scene'+str(scene)+'_z'+str(z)+'.tiff'),slice,check_contrast=False)"
   ]
  },
  {
   "cell_type": "code",
   "execution_count": null,
   "id": "a91f1f20",
   "metadata": {},
   "outputs": [],
   "source": [
    "na_50_images_files = sorted(glob('50_mm/TIFFs/*.tiff'))\n",
    "na_50_masks_files = sorted(glob('50_mm/Masks/*.tif'))\n",
    "na_500_images_files = sorted(glob('500_mm/TIFFs/*.tiff'))\n",
    "na_500_masks_files = sorted(glob('500_mm/Masks/*.tif'))"
   ]
  },
  {
   "cell_type": "code",
   "execution_count": null,
   "id": "71ccac0b",
   "metadata": {},
   "outputs": [],
   "source": [
    "na_50_images = list(map(sk.io.imread,na_50_images_files))\n",
    "na_50_masks = list(map(sk.io.imread,na_50_masks_files))\n",
    "na_500_images = list(map(sk.io.imread,na_500_images_files))\n",
    "na_500_masks = list(map(sk.io.imread,na_500_masks_files))"
   ]
  },
  {
   "cell_type": "code",
   "execution_count": null,
   "id": "799ccf44",
   "metadata": {},
   "outputs": [],
   "source": []
  },
  {
   "cell_type": "code",
   "execution_count": null,
   "id": "d60afe1a",
   "metadata": {},
   "outputs": [],
   "source": [
    "na_50_masked = [na_50_masks[i]*na_50_images[i] for i in range(len(na_50_images))]\n",
    "na_500_masked = [na_500_masks[i]*na_500_images[i] for i in range(len(na_500_images))]"
   ]
  },
  {
   "cell_type": "code",
   "execution_count": null,
   "id": "01d12492",
   "metadata": {},
   "outputs": [],
   "source": [
    "viewer = napari.view_image(na_50_masked[0],name='masked image')"
   ]
  },
  {
   "cell_type": "code",
   "execution_count": null,
   "id": "eb560222",
   "metadata": {},
   "outputs": [],
   "source": [
    "test = na_50_masked[0]\n",
    "clahe = sk.exposure.equalize_adapthist(test)"
   ]
  },
  {
   "cell_type": "code",
   "execution_count": null,
   "id": "2f7b667f",
   "metadata": {},
   "outputs": [],
   "source": [
    "sobel = sk.filters.sobel(clahe)\n",
    "laplace = sk.filters.laplace(clahe)\n",
    "roberts = sk.filters.roberts(clahe)\n"
   ]
  },
  {
   "cell_type": "code",
   "execution_count": null,
   "id": "957567a1",
   "metadata": {},
   "outputs": [],
   "source": [
    "fig, axes = plt.subplots(1,2,figsize=(10,5))\n",
    "axes[1].imshow(sobel,cmap=plt.cm.gray)\n",
    "axes[1].set_axis_off()\n",
    "axes[0].imshow(test,cmap=plt.cm.gray)\n",
    "axes[0].set_axis_off()\n"
   ]
  },
  {
   "cell_type": "code",
   "execution_count": null,
   "id": "dce30d17",
   "metadata": {},
   "outputs": [],
   "source": [
    "viewer = napari.view_image(clahe, name='adapthist')\n",
    "viewer.add_image(test,name='img')\n",
    "viewer.add_image(sobel,name='sobel')\n",
    "viewer.add_image(laplace,name='laplace')\n",
    "viewer.add_image(roberts,name='roberts')"
   ]
  },
  {
   "cell_type": "code",
   "execution_count": null,
   "id": "78eca1d7",
   "metadata": {},
   "outputs": [],
   "source": [
    "fig, ax = sk.filters.try_all_threshold(test, figsize=(10,6))"
   ]
  },
  {
   "cell_type": "code",
   "execution_count": null,
   "id": "1a85c4cc",
   "metadata": {},
   "outputs": [],
   "source": [
    "iso_data = test > sk.filters.threshold_isodata(test)\n",
    "otsu = test > sk.filters.threshold_otsu(test)"
   ]
  },
  {
   "cell_type": "code",
   "execution_count": null,
   "id": "5397d572",
   "metadata": {},
   "outputs": [],
   "source": [
    "viewer = napari.view_image(test,name='img')\n",
    "viewer.add_image(iso_data,name='iso')\n",
    "viewer.add_image(otsu,name='otsu')"
   ]
  },
  {
   "cell_type": "code",
   "execution_count": null,
   "id": "c0f8132c",
   "metadata": {},
   "outputs": [],
   "source": [
    "sato_black = sk.filters.sato(test)\n",
    "sato_white = sk.filters.sato(test,black_ridges=False)"
   ]
  },
  {
   "cell_type": "code",
   "execution_count": null,
   "id": "8da2dc99",
   "metadata": {},
   "outputs": [],
   "source": [
    "hessian = sk.filters.hessian(test,black_ridges=False)\n"
   ]
  },
  {
   "cell_type": "code",
   "execution_count": null,
   "id": "b19c10e2",
   "metadata": {},
   "outputs": [],
   "source": [
    "viewer = napari.view_image(test,name='img')\n",
    "viewer.add_image(sato_black,name='black')\n",
    "viewer.add_image(sato_white,name='white')"
   ]
  },
  {
   "cell_type": "code",
   "execution_count": null,
   "id": "4ca3c864",
   "metadata": {},
   "outputs": [],
   "source": [
    "viewer = napari.view_image(test,name='img')\n",
    "viewer.add_image(hessian,name='hessian')"
   ]
  },
  {
   "cell_type": "code",
   "execution_count": null,
   "id": "77a94b55",
   "metadata": {},
   "outputs": [],
   "source": [
    "gaussian = sk.filters.gaussian(test,)"
   ]
  },
  {
   "cell_type": "code",
   "execution_count": null,
   "id": "f1fd9b03",
   "metadata": {},
   "outputs": [],
   "source": [
    "#Quick starDist test\n",
    "X = imread('Cropped_ROI_stardist_test.tif')"
   ]
  },
  {
   "cell_type": "code",
   "execution_count": null,
   "id": "f9d3624f",
   "metadata": {},
   "outputs": [],
   "source": [
    "n_channel = 1 if X[0].ndim == 2 else X[0].shape[-1]\n",
    "axis_norm = (0,1)   # normalize channels independently\n",
    "# axis_norm = (0,1,2) # normalize channels jointly\n",
    "if n_channel > 1:\n",
    "    print(\"Normalizing image channels %s.\" % ('jointly' if axis_norm is None or 2 in axis_norm else 'independently'))"
   ]
  },
  {
   "cell_type": "code",
   "execution_count": null,
   "id": "25fc392d",
   "metadata": {},
   "outputs": [],
   "source": [
    "StarDist2D.from_pretrained()"
   ]
  },
  {
   "cell_type": "code",
   "execution_count": null,
   "id": "7d551cae",
   "metadata": {},
   "outputs": [],
   "source": [
    "model = StarDist2D.from_pretrained('2D_versatile_fluo')"
   ]
  },
  {
   "cell_type": "markdown",
   "id": "f372c499",
   "metadata": {},
   "source": [
    "Get measurements from objects"
   ]
  },
  {
   "cell_type": "code",
   "execution_count": null,
   "id": "069199d5",
   "metadata": {},
   "outputs": [],
   "source": [
    "na_50_img_files = sorted(glob('50_mm/TIFFs/*.tiff'))\n",
    "na_500_img_files = sorted(glob('500_mm/TIFFs/*.tiff'))"
   ]
  },
  {
   "cell_type": "code",
   "execution_count": null,
   "id": "7d24a4d4",
   "metadata": {},
   "outputs": [],
   "source": [
    "file_list = na_50_img_files+na_500_img_files"
   ]
  },
  {
   "cell_type": "code",
   "execution_count": null,
   "id": "c48f4652",
   "metadata": {},
   "outputs": [],
   "source": [
    "na_50_imgs = list(map(imread,na_50_img_files))\n",
    "na_500_imgs = list(map(imread,na_500_img_files))"
   ]
  },
  {
   "cell_type": "code",
   "execution_count": null,
   "id": "ecc9926f",
   "metadata": {},
   "outputs": [],
   "source": [
    "X = na_50_imgs + na_500_imgs"
   ]
  },
  {
   "cell_type": "code",
   "execution_count": null,
   "id": "c3b605a1",
   "metadata": {},
   "outputs": [],
   "source": [
    "n_channel = 1 if X[0].ndim == 2 else X[0].shape[-1]\n",
    "axis_norm = (0,1)\n",
    "if n_channel > 1:\n",
    "    print(\"Normalizing image channels %s.\" % ('jointly' if axis_norm is None or 2 in axis_norm else 'independently'))"
   ]
  },
  {
   "cell_type": "code",
   "execution_count": null,
   "id": "db9af20e",
   "metadata": {},
   "outputs": [],
   "source": [
    "#load in model\n",
    "model = StarDist2D(None, name='2D_versatile_fluo_Rings', basedir='')"
   ]
  },
  {
   "cell_type": "code",
   "execution_count": null,
   "id": "81e6bbc1",
   "metadata": {},
   "outputs": [],
   "source": [
    "X = [normalize(x, 1,99.8, axis=axis_norm) for x in X]"
   ]
  },
  {
   "cell_type": "code",
   "execution_count": null,
   "id": "76b024bf",
   "metadata": {},
   "outputs": [],
   "source": [
    "labels = [model.predict_instances(x)[0] for x in tqdm(X)]"
   ]
  },
  {
   "cell_type": "code",
   "execution_count": null,
   "id": "3fc68cb9",
   "metadata": {},
   "outputs": [],
   "source": [
    "viewer = napari.view_image(X[0], name = 'img')\n",
    "viewer.add_labels(labels[0],name='labels')"
   ]
  },
  {
   "cell_type": "code",
   "execution_count": null,
   "id": "a24531ed",
   "metadata": {},
   "outputs": [],
   "source": [
    "na_50_masks_files = sorted(glob('50_mm/Masks/*.tif'))\n",
    "na_500_masks_files = sorted(glob('500_mm/Masks/*.tif'))\n",
    "na_50_masks = list(map(sk.io.imread,na_50_masks_files))\n",
    "na_500_masks = list(map(sk.io.imread,na_500_masks_files))"
   ]
  },
  {
   "cell_type": "code",
   "execution_count": null,
   "id": "016edc20",
   "metadata": {},
   "outputs": [],
   "source": [
    "all_masks = na_50_masks + na_500_masks"
   ]
  },
  {
   "cell_type": "code",
   "execution_count": null,
   "id": "ef93cc48",
   "metadata": {},
   "outputs": [],
   "source": [
    "masked_labels = [all_masks[i]*labels[i] for i in range(len(labels))]"
   ]
  },
  {
   "cell_type": "code",
   "execution_count": null,
   "id": "0c46a4d1",
   "metadata": {},
   "outputs": [],
   "source": [
    "viewer = napari.view_image(X[5], name = 'img')\n",
    "viewer.add_labels(masked_labels[5],name='labels')"
   ]
  },
  {
   "cell_type": "code",
   "execution_count": null,
   "id": "cc1e2fbe",
   "metadata": {},
   "outputs": [],
   "source": [
    "pixel_size = [0.07,0.07]\n",
    "props = ('label','axis_major_length','axis_minor_length','eccentricity','perimeter','intensity_mean','area')"
   ]
  },
  {
   "cell_type": "code",
   "execution_count": null,
   "id": "f69c423a",
   "metadata": {},
   "outputs": [],
   "source": [
    "test_mask = masked_labels[0]\n",
    "test_img = X[0]"
   ]
  },
  {
   "cell_type": "code",
   "execution_count": null,
   "id": "3c904a90",
   "metadata": {},
   "outputs": [],
   "source": [
    "df = sk.measure.regionprops_table(test_mask,test_img,properties=props,spacing=pixel_size)\n",
    "df = pd.DataFrame.from_dict(df)"
   ]
  },
  {
   "cell_type": "code",
   "execution_count": null,
   "id": "a17f7278",
   "metadata": {},
   "outputs": [],
   "source": [
    "perimeters = np.asarray(df['perimeter']).astype(np.float64)"
   ]
  },
  {
   "cell_type": "code",
   "execution_count": null,
   "id": "d4c233d1",
   "metadata": {},
   "outputs": [],
   "source": [
    "type(perimeters)"
   ]
  },
  {
   "cell_type": "code",
   "execution_count": null,
   "id": "bc7e7f6f",
   "metadata": {},
   "outputs": [],
   "source": [
    "def get_measurements(mask,img,props,pixel_size):\n",
    "    df = sk.measure.regionprops_table(mask,img,properties=props,spacing=pixel_size)\n",
    "    df = pd.DataFrame.from_dict(df)\n",
    "    return df"
   ]
  },
  {
   "cell_type": "code",
   "execution_count": null,
   "id": "76757db0",
   "metadata": {},
   "outputs": [],
   "source": [
    "def circularity_and_aspect_ratio(df):\n",
    "    circularity_list = []\n",
    "    aspect_ratio_list = []\n",
    "    perimeters = np.asarray(df['perimeter']).astype(np.float64)\n",
    "    areas = np.asarray(df['area']).astype(np.float64)\n",
    "    min_diam = np.asarray(df['axis_minor_length']).astype(np.float64)\n",
    "    max_diam = np.asarray(df['axis_major_length']).astype(np.float64)\n",
    "    for c in range(len(perimeters)):\n",
    "        circ = (4*np.pi*areas[c])/(perimeters[c]**2)\n",
    "        circularity_list.append(circ)\n",
    "        ar = max_diam[c]/min_diam[c]\n",
    "        aspect_ratio_list.append(ar)\n",
    "    aspect_ratios = pd.Series(aspect_ratio_list,name='aspect_ratio')\n",
    "    circularities = pd.Series(circularity_list,name='circularity')\n",
    "    merged_df = pd.concat([df,circularities,aspect_ratios],axis=1)\n",
    "    return merged_df\n"
   ]
  },
  {
   "cell_type": "code",
   "execution_count": null,
   "id": "8b14847a",
   "metadata": {},
   "outputs": [],
   "source": [
    "def save(save_path, img_name, mask, merged_df):\n",
    "    masks_path = os.path.join(save_path,'masks')\n",
    "    dataframe_path = os.path.join(save_path,'measurements')\n",
    "    sk.io.imsave(os.path.join(masks_path,'masks_'+img_name[:-5]+'.tif'),mask,check_contrast=False)\n",
    "    merged_df.to_csv(os.path.join(dataframe_path,'measurements_'+img_name[:-5]+'.csv'))"
   ]
  },
  {
   "cell_type": "code",
   "execution_count": null,
   "id": "809414f3",
   "metadata": {},
   "outputs": [],
   "source": [
    "save_path = 'Output'\n",
    "all_imgs = na_50_imgs + na_500_imgs\n",
    "for i in range(len(file_list)):\n",
    "    img_name = os.path.basename(file_list[i])\n",
    "    mask = masked_labels[i]\n",
    "    img = all_imgs[i]\n",
    "    df = get_measurements(mask,img,props,pixel_size)\n",
    "    merged_df = circularity_and_aspect_ratio(df)\n",
    "    save(save_path,img_name,mask,merged_df)"
   ]
  },
  {
   "cell_type": "markdown",
   "id": "ac01d64d",
   "metadata": {},
   "source": [
    "Plot some things"
   ]
  },
  {
   "cell_type": "code",
   "execution_count": null,
   "id": "5e8db420",
   "metadata": {},
   "outputs": [],
   "source": [
    "na_50_measurements = sorted(glob('Output/measurements/*_50mm_*.csv'))\n",
    "na_500_measurements = sorted(glob('Output/measurements/*_500mm_*.csv'))"
   ]
  },
  {
   "cell_type": "code",
   "execution_count": null,
   "id": "d99b0e99",
   "metadata": {},
   "outputs": [],
   "source": [
    "na_50_name_list = [os.path.basename(file)[13:-4] for file in na_50_measurements]\n",
    "na_500_name_list = [os.path.basename(file)[13:-4] for file in na_500_measurements]"
   ]
  },
  {
   "cell_type": "code",
   "execution_count": null,
   "id": "0da216e7",
   "metadata": {},
   "outputs": [],
   "source": [
    "na_50_measurements = list(map(pd.read_csv,na_50_measurements))\n",
    "na_500_measurements = list(map(pd.read_csv,na_500_measurements))\n"
   ]
  },
  {
   "cell_type": "code",
   "execution_count": null,
   "id": "09d05fe8",
   "metadata": {},
   "outputs": [],
   "source": [
    "df1 = na_50_measurements[3]\n",
    "df2 = na_50_measurements[0]"
   ]
  },
  {
   "cell_type": "code",
   "execution_count": null,
   "id": "07a2f152",
   "metadata": {},
   "outputs": [],
   "source": [
    "df1.head()"
   ]
  },
  {
   "cell_type": "code",
   "execution_count": null,
   "id": "7260a5c2",
   "metadata": {},
   "outputs": [],
   "source": [
    "area_50 = [df['area'] for df in na_50_measurements]\n",
    "area_500 = [df['area'] for df in na_500_measurements]\n",
    "ar_50 = [df['aspect_ratio'] for df in na_50_measurements]\n",
    "ar_500 = [df['aspect_ratio'] for df in na_500_measurements]\n",
    "circ_50 = [df['circularity'] for df in na_50_measurements]\n",
    "circ_500 = [df['circularity'] for df in na_500_measurements]\n",
    "intensity_50 = [df['intensity_mean'] for df in na_50_measurements]\n",
    "intensity_500 = [df['intensity_mean'] for df in na_500_measurements]"
   ]
  },
  {
   "cell_type": "code",
   "execution_count": null,
   "id": "4da9821b",
   "metadata": {},
   "outputs": [],
   "source": [
    "fig, ax = plt.subplots(4,2,figsize=(12,10),layout='constrained')\n",
    "ax[0,0].boxplot(area_50)\n",
    "ax[0,0].set_title('Area 50 mM Na')\n",
    "ax[0,0].set_ylim(0,6)\n",
    "ax[0,1].boxplot(area_500)\n",
    "ax[0,1].set_title('Area 500 mM Na')\n",
    "ax[0,1].set_ylim(0,6)\n",
    "ax[1,0].boxplot(ar_50)\n",
    "ax[1,0].set_title('Aspect Ratio 50 mM Na')\n",
    "ax[1,0].set_ylim(0.5,2.5)\n",
    "ax[1,1].boxplot(ar_500)\n",
    "ax[1,1].set_title('Aspect Ratio 500 mM Na')\n",
    "ax[1,1].set_ylim(0.5,2.5)\n",
    "ax[2,0].boxplot(circ_50)\n",
    "ax[2,0].set_title('Circularity 50 mM Na')\n",
    "ax[2,0].set_ylim(0.5,1.5)\n",
    "ax[2,1].boxplot(circ_500)\n",
    "ax[2,1].set_title('Circularity 500 mM Na')\n",
    "ax[2,1].set_ylim(0.5,1.5)\n",
    "ax[3,0].boxplot(intensity_50)\n",
    "ax[3,0].set_title('Mean Intensity 50 mM Na')\n",
    "ax[3,0].set_ylim(500,10000)\n",
    "ax[3,1].boxplot(intensity_500)\n",
    "ax[3,1].set_title('Mean Intensity 500 mM Na')\n",
    "ax[3,1].set_ylim(500,10000)\n",
    "plt.show()"
   ]
  },
  {
   "cell_type": "markdown",
   "id": "ff652655",
   "metadata": {},
   "source": [
    "Linear mixed effects model to compare areas"
   ]
  },
  {
   "cell_type": "code",
   "execution_count": 32,
   "id": "8c6c9e78",
   "metadata": {},
   "outputs": [],
   "source": [
    "import pandas as pd\n",
    "import numpy as np\n",
    "import statsmodels.api as sm\n",
    "import statsmodels.formula.api as smf\n",
    "import os\n",
    "from glob import glob\n",
    "import matplotlib.pyplot as plt"
   ]
  },
  {
   "cell_type": "code",
   "execution_count": 8,
   "id": "bd5de8e8",
   "metadata": {},
   "outputs": [],
   "source": [
    "na_50_measurements = sorted(glob('Output/measurements/*_50mm_*.csv'))\n",
    "na_500_measurements = sorted(glob('Output/measurements/*_500mm_*.csv'))"
   ]
  },
  {
   "cell_type": "code",
   "execution_count": 9,
   "id": "5bc318da",
   "metadata": {},
   "outputs": [],
   "source": [
    "na_50_measurements = list(map(pd.read_csv,na_50_measurements))\n",
    "na_500_measurements = list(map(pd.read_csv,na_500_measurements))"
   ]
  },
  {
   "cell_type": "code",
   "execution_count": 10,
   "id": "173109c5",
   "metadata": {},
   "outputs": [
    {
     "data": {
      "text/html": [
       "<div>\n",
       "<style scoped>\n",
       "    .dataframe tbody tr th:only-of-type {\n",
       "        vertical-align: middle;\n",
       "    }\n",
       "\n",
       "    .dataframe tbody tr th {\n",
       "        vertical-align: top;\n",
       "    }\n",
       "\n",
       "    .dataframe thead th {\n",
       "        text-align: right;\n",
       "    }\n",
       "</style>\n",
       "<table border=\"1\" class=\"dataframe\">\n",
       "  <thead>\n",
       "    <tr style=\"text-align: right;\">\n",
       "      <th></th>\n",
       "      <th>Unnamed: 0</th>\n",
       "      <th>label</th>\n",
       "      <th>axis_major_length</th>\n",
       "      <th>axis_minor_length</th>\n",
       "      <th>eccentricity</th>\n",
       "      <th>perimeter</th>\n",
       "      <th>intensity_mean</th>\n",
       "      <th>area</th>\n",
       "      <th>circularity</th>\n",
       "      <th>aspect_ratio</th>\n",
       "      <th>bio_rep</th>\n",
       "      <th>condition</th>\n",
       "    </tr>\n",
       "  </thead>\n",
       "  <tbody>\n",
       "    <tr>\n",
       "      <th>0</th>\n",
       "      <td>0</td>\n",
       "      <td>2</td>\n",
       "      <td>1.252026</td>\n",
       "      <td>1.172066</td>\n",
       "      <td>0.351640</td>\n",
       "      <td>3.765929</td>\n",
       "      <td>3729.455319</td>\n",
       "      <td>1.1515</td>\n",
       "      <td>1.020304</td>\n",
       "      <td>1.068221</td>\n",
       "      <td>1</td>\n",
       "      <td>50mM</td>\n",
       "    </tr>\n",
       "    <tr>\n",
       "      <th>1</th>\n",
       "      <td>1</td>\n",
       "      <td>5</td>\n",
       "      <td>1.065644</td>\n",
       "      <td>1.013537</td>\n",
       "      <td>0.308875</td>\n",
       "      <td>3.205929</td>\n",
       "      <td>4495.381503</td>\n",
       "      <td>0.8477</td>\n",
       "      <td>1.036440</td>\n",
       "      <td>1.051411</td>\n",
       "      <td>1</td>\n",
       "      <td>50mM</td>\n",
       "    </tr>\n",
       "    <tr>\n",
       "      <th>2</th>\n",
       "      <td>2</td>\n",
       "      <td>9</td>\n",
       "      <td>1.304432</td>\n",
       "      <td>1.183770</td>\n",
       "      <td>0.420056</td>\n",
       "      <td>3.905929</td>\n",
       "      <td>2756.680162</td>\n",
       "      <td>1.2103</td>\n",
       "      <td>0.996906</td>\n",
       "      <td>1.101931</td>\n",
       "      <td>1</td>\n",
       "      <td>50mM</td>\n",
       "    </tr>\n",
       "    <tr>\n",
       "      <th>3</th>\n",
       "      <td>3</td>\n",
       "      <td>11</td>\n",
       "      <td>1.214215</td>\n",
       "      <td>1.102400</td>\n",
       "      <td>0.419162</td>\n",
       "      <td>3.799899</td>\n",
       "      <td>3585.401869</td>\n",
       "      <td>1.0486</td>\n",
       "      <td>0.912590</td>\n",
       "      <td>1.101429</td>\n",
       "      <td>1</td>\n",
       "      <td>50mM</td>\n",
       "    </tr>\n",
       "    <tr>\n",
       "      <th>4</th>\n",
       "      <td>4</td>\n",
       "      <td>13</td>\n",
       "      <td>2.503214</td>\n",
       "      <td>2.150588</td>\n",
       "      <td>0.511756</td>\n",
       "      <td>7.565828</td>\n",
       "      <td>1945.538372</td>\n",
       "      <td>4.2140</td>\n",
       "      <td>0.925106</td>\n",
       "      <td>1.163967</td>\n",
       "      <td>1</td>\n",
       "      <td>50mM</td>\n",
       "    </tr>\n",
       "  </tbody>\n",
       "</table>\n",
       "</div>"
      ],
      "text/plain": [
       "   Unnamed: 0  label  axis_major_length  axis_minor_length  eccentricity  \\\n",
       "0           0      2           1.252026           1.172066      0.351640   \n",
       "1           1      5           1.065644           1.013537      0.308875   \n",
       "2           2      9           1.304432           1.183770      0.420056   \n",
       "3           3     11           1.214215           1.102400      0.419162   \n",
       "4           4     13           2.503214           2.150588      0.511756   \n",
       "\n",
       "   perimeter  intensity_mean    area  circularity  aspect_ratio  bio_rep  \\\n",
       "0   3.765929     3729.455319  1.1515     1.020304      1.068221        1   \n",
       "1   3.205929     4495.381503  0.8477     1.036440      1.051411        1   \n",
       "2   3.905929     2756.680162  1.2103     0.996906      1.101931        1   \n",
       "3   3.799899     3585.401869  1.0486     0.912590      1.101429        1   \n",
       "4   7.565828     1945.538372  4.2140     0.925106      1.163967        1   \n",
       "\n",
       "  condition  \n",
       "0      50mM  \n",
       "1      50mM  \n",
       "2      50mM  \n",
       "3      50mM  \n",
       "4      50mM  "
      ]
     },
     "execution_count": 10,
     "metadata": {},
     "output_type": "execute_result"
    }
   ],
   "source": [
    "na_50_measurements[0].head()"
   ]
  },
  {
   "cell_type": "code",
   "execution_count": 22,
   "id": "5244f5d2",
   "metadata": {},
   "outputs": [],
   "source": [
    "area_df_na50 = [df.get(['area','bio_rep','condition']) for df in na_50_measurements]\n",
    "area_df_na500 = [df.get(['area','bio_rep','condition']) for df in na_500_measurements]\n",
    "area_df_na50_merged = pd.concat(area_df_na50).reset_index(drop=True)\n",
    "area_df_na500_merged = pd.concat(area_df_na500).reset_index(drop=True)"
   ]
  },
  {
   "cell_type": "code",
   "execution_count": 24,
   "id": "c12d1fb5",
   "metadata": {},
   "outputs": [
    {
     "data": {
      "text/html": [
       "<div>\n",
       "<style scoped>\n",
       "    .dataframe tbody tr th:only-of-type {\n",
       "        vertical-align: middle;\n",
       "    }\n",
       "\n",
       "    .dataframe tbody tr th {\n",
       "        vertical-align: top;\n",
       "    }\n",
       "\n",
       "    .dataframe thead th {\n",
       "        text-align: right;\n",
       "    }\n",
       "</style>\n",
       "<table border=\"1\" class=\"dataframe\">\n",
       "  <thead>\n",
       "    <tr style=\"text-align: right;\">\n",
       "      <th></th>\n",
       "      <th>area</th>\n",
       "      <th>bio_rep</th>\n",
       "      <th>condition</th>\n",
       "    </tr>\n",
       "  </thead>\n",
       "  <tbody>\n",
       "    <tr>\n",
       "      <th>491</th>\n",
       "      <td>0.8330</td>\n",
       "      <td>3</td>\n",
       "      <td>50mM</td>\n",
       "    </tr>\n",
       "    <tr>\n",
       "      <th>492</th>\n",
       "      <td>0.8330</td>\n",
       "      <td>3</td>\n",
       "      <td>50mM</td>\n",
       "    </tr>\n",
       "    <tr>\n",
       "      <th>493</th>\n",
       "      <td>0.5684</td>\n",
       "      <td>3</td>\n",
       "      <td>50mM</td>\n",
       "    </tr>\n",
       "    <tr>\n",
       "      <th>494</th>\n",
       "      <td>0.9065</td>\n",
       "      <td>3</td>\n",
       "      <td>50mM</td>\n",
       "    </tr>\n",
       "    <tr>\n",
       "      <th>495</th>\n",
       "      <td>1.3377</td>\n",
       "      <td>3</td>\n",
       "      <td>50mM</td>\n",
       "    </tr>\n",
       "  </tbody>\n",
       "</table>\n",
       "</div>"
      ],
      "text/plain": [
       "       area  bio_rep condition\n",
       "491  0.8330        3      50mM\n",
       "492  0.8330        3      50mM\n",
       "493  0.5684        3      50mM\n",
       "494  0.9065        3      50mM\n",
       "495  1.3377        3      50mM"
      ]
     },
     "execution_count": 24,
     "metadata": {},
     "output_type": "execute_result"
    }
   ],
   "source": [
    "area_df_na50_merged.tail()"
   ]
  },
  {
   "cell_type": "code",
   "execution_count": 25,
   "id": "18fe451c",
   "metadata": {},
   "outputs": [],
   "source": [
    "dfs_merged = pd.concat([area_df_na50_merged,area_df_na500_merged]).reset_index(drop=True)"
   ]
  },
  {
   "cell_type": "code",
   "execution_count": 35,
   "id": "165e6804",
   "metadata": {},
   "outputs": [],
   "source": [
    "dfs_merged['area_sqrt'] = np.sqrt(dfs_merged['area'])"
   ]
  },
  {
   "cell_type": "code",
   "execution_count": 46,
   "id": "4a94d4a1",
   "metadata": {},
   "outputs": [],
   "source": [
    "dfs_merged['area_log'] = np.log(dfs_merged['area'])"
   ]
  },
  {
   "cell_type": "code",
   "execution_count": null,
   "id": "835cbcbd",
   "metadata": {},
   "outputs": [
    {
     "data": {
      "text/html": [
       "<div>\n",
       "<style scoped>\n",
       "    .dataframe tbody tr th:only-of-type {\n",
       "        vertical-align: middle;\n",
       "    }\n",
       "\n",
       "    .dataframe tbody tr th {\n",
       "        vertical-align: top;\n",
       "    }\n",
       "\n",
       "    .dataframe thead th {\n",
       "        text-align: right;\n",
       "    }\n",
       "</style>\n",
       "<table border=\"1\" class=\"dataframe\">\n",
       "  <thead>\n",
       "    <tr style=\"text-align: right;\">\n",
       "      <th></th>\n",
       "      <th>area</th>\n",
       "      <th>bio_rep</th>\n",
       "      <th>condition</th>\n",
       "      <th>area_sqrt</th>\n",
       "      <th>area_log</th>\n",
       "    </tr>\n",
       "  </thead>\n",
       "  <tbody>\n",
       "    <tr>\n",
       "      <th>1369</th>\n",
       "      <td>0.4214</td>\n",
       "      <td>3</td>\n",
       "      <td>500mM</td>\n",
       "      <td>0.649153</td>\n",
       "      <td>-0.864173</td>\n",
       "    </tr>\n",
       "    <tr>\n",
       "      <th>1370</th>\n",
       "      <td>0.4753</td>\n",
       "      <td>3</td>\n",
       "      <td>500mM</td>\n",
       "      <td>0.689420</td>\n",
       "      <td>-0.743809</td>\n",
       "    </tr>\n",
       "    <tr>\n",
       "      <th>1371</th>\n",
       "      <td>0.4214</td>\n",
       "      <td>3</td>\n",
       "      <td>500mM</td>\n",
       "      <td>0.649153</td>\n",
       "      <td>-0.864173</td>\n",
       "    </tr>\n",
       "    <tr>\n",
       "      <th>1372</th>\n",
       "      <td>0.4606</td>\n",
       "      <td>3</td>\n",
       "      <td>500mM</td>\n",
       "      <td>0.678675</td>\n",
       "      <td>-0.775225</td>\n",
       "    </tr>\n",
       "    <tr>\n",
       "      <th>1373</th>\n",
       "      <td>0.4606</td>\n",
       "      <td>3</td>\n",
       "      <td>500mM</td>\n",
       "      <td>0.678675</td>\n",
       "      <td>-0.775225</td>\n",
       "    </tr>\n",
       "  </tbody>\n",
       "</table>\n",
       "</div>"
      ],
      "text/plain": [
       "        area  bio_rep condition  area_sqrt  area_log\n",
       "1369  0.4214        3     500mM   0.649153 -0.864173\n",
       "1370  0.4753        3     500mM   0.689420 -0.743809\n",
       "1371  0.4214        3     500mM   0.649153 -0.864173\n",
       "1372  0.4606        3     500mM   0.678675 -0.775225\n",
       "1373  0.4606        3     500mM   0.678675 -0.775225"
      ]
     },
     "execution_count": 47,
     "metadata": {},
     "output_type": "execute_result"
    }
   ],
   "source": [
    "dfs_merged.tail()"
   ]
  },
  {
   "cell_type": "code",
   "execution_count": 48,
   "id": "bc85cef2",
   "metadata": {},
   "outputs": [
    {
     "name": "stderr",
     "output_type": "stream",
     "text": [
      "c:\\ProgramData\\anaconda3\\envs\\stardist\\Lib\\site-packages\\statsmodels\\regression\\mixed_linear_model.py:2237: ConvergenceWarning: The MLE may be on the boundary of the parameter space.\n",
      "  warnings.warn(msg, ConvergenceWarning)\n"
     ]
    }
   ],
   "source": [
    "model = smf.mixedlm(\n",
    "    \"area_log ~ C(condition)\",\n",
    "    data=dfs_merged,\n",
    "    groups=dfs_merged[\"bio_rep\"])\n",
    "mdf = model.fit()\n",
    "#print(mdf.summary())"
   ]
  },
  {
   "cell_type": "code",
   "execution_count": 49,
   "id": "ed40cebf",
   "metadata": {},
   "outputs": [],
   "source": [
    "residuals = mdf.resid\n",
    "fitted_values = mdf.fittedvalues"
   ]
  },
  {
   "cell_type": "code",
   "execution_count": 50,
   "id": "4ae752cc",
   "metadata": {},
   "outputs": [
    {
     "data": {
      "image/png": "[encoded data removed]",
      "text/plain": [
       "<Figure size 640x480 with 1 Axes>"
      ]
     },
     "metadata": {},
     "output_type": "display_data"
    }
   ],
   "source": [
    "import statsmodels.api as sm\n",
    "sm.qqplot(residuals, line='s')\n",
    "plt.title(\"QQ-Plot of Residuals\")\n",
    "plt.show()"
   ]
  },
  {
   "cell_type": "code",
   "execution_count": 51,
   "id": "c19f3d8f",
   "metadata": {},
   "outputs": [
    {
     "name": "stdout",
     "output_type": "stream",
     "text": [
      "             Mixed Linear Model Regression Results\n",
      "================================================================\n",
      "Model:               MixedLM    Dependent Variable:    area_log \n",
      "No. Observations:    1374       Method:                REML     \n",
      "No. Groups:          3          Scale:                 0.1447   \n",
      "Min. group size:     386        Log-Likelihood:        -630.0766\n",
      "Max. group size:     500        Converged:             Yes      \n",
      "Mean group size:     458.0                                      \n",
      "----------------------------------------------------------------\n",
      "                     Coef.  Std.Err.    z    P>|z| [0.025 0.975]\n",
      "----------------------------------------------------------------\n",
      "Intercept            -0.561    0.042 -13.474 0.000 -0.642 -0.479\n",
      "C(condition)[T.50mM]  0.780    0.022  35.490 0.000  0.737  0.823\n",
      "Group Var             0.005    0.013                            \n",
      "================================================================\n",
      "\n"
     ]
    }
   ],
   "source": [
    "print(mdf.summary())"
   ]
  },
  {
   "cell_type": "code",
   "execution_count": 52,
   "id": "854aabe4",
   "metadata": {},
   "outputs": [],
   "source": [
    "dfs_merged.to_csv(os.path.join('Output','Areas_.csv'))"
   ]
  },
  {
   "cell_type": "code",
   "execution_count": null,
   "id": "c7824159",
   "metadata": {},
   "outputs": [],
   "source": []
  }
 ],
 "metadata": {
  "kernelspec": {
   "display_name": "stardist",
   "language": "python",
   "name": "python3"
  },
  "language_info": {
   "codemirror_mode": {
    "name": "ipython",
    "version": 3
   },
   "file_extension": ".py",
   "mimetype": "text/x-python",
   "name": "python",
   "nbconvert_exporter": "python",
   "pygments_lexer": "ipython3",
   "version": "3.12.9"
  }
 },
 "nbformat": 4,
 "nbformat_minor": 5
}
