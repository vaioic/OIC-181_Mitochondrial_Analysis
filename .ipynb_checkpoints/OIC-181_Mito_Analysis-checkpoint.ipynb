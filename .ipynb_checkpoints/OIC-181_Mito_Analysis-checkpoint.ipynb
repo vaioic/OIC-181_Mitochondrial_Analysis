{
 "cells": [
  {
   "cell_type": "code",
   "execution_count": 1,
   "id": "ce7c4830",
   "metadata": {},
   "outputs": [],
   "source": [
    "from __future__ import print_function, unicode_literals, absolute_import, division\n",
    "import sys\n",
    "import numpy as np\n",
    "import matplotlib\n",
    "matplotlib.rcParams[\"image.interpolation\"] = 'none'\n",
    "import matplotlib.pyplot as plt\n",
    "%matplotlib inline\n",
    "%config InlineBackend.figure_format = 'retina'\n",
    "\n",
    "from glob import glob\n",
    "from tifffile import imread\n",
    "from csbdeep.utils import Path, normalize\n",
    "from csbdeep.io import save_tiff_imagej_compatible\n",
    "\n",
    "from stardist import random_label_cmap, _draw_polygons, export_imagej_rois\n",
    "from stardist.models import StarDist2D\n",
    "\n",
    "np.random.seed(6)\n",
    "lbl_cmap = random_label_cmap()"
   ]
  },
  {
   "cell_type": "code",
   "execution_count": null,
   "id": "e340c37d",
   "metadata": {},
   "outputs": [],
   "source": [
    "na_50_files = Path('wt_tom20_gyp_day1_50mm _2025_05_13__15_19_27_Airyscan_Processing.czi')\n",
    "na_500_files = Path('wt_tom20_gyp_day1_500mmsaltplate_6hr_pt_2025_05_13__14_48_27_Airyscan_Processing.czi')\n"
   ]
  },
  {
   "cell_type": "code",
   "execution_count": null,
   "id": "104e02b0",
   "metadata": {},
   "outputs": [],
   "source": [
    "na_50_czi = CziFile(na_50_files)\n",
    "na_500_czi = CziFile(na_500_files)"
   ]
  },
  {
   "cell_type": "code",
   "execution_count": null,
   "id": "b2104e8d",
   "metadata": {},
   "outputs": [],
   "source": [
    "na_50_czi.size"
   ]
  },
  {
   "cell_type": "code",
   "execution_count": null,
   "id": "444f8735",
   "metadata": {},
   "outputs": [],
   "source": [
    "test_slice = np.squeeze(na_50_czi.read_image(S=0,Z=50)[0])"
   ]
  },
  {
   "cell_type": "code",
   "execution_count": null,
   "id": "04b14d7f",
   "metadata": {},
   "outputs": [],
   "source": [
    "test_slice.shape"
   ]
  },
  {
   "cell_type": "code",
   "execution_count": null,
   "id": "bc63552d",
   "metadata": {},
   "outputs": [],
   "source": [
    "test_img.shape"
   ]
  },
  {
   "cell_type": "code",
   "execution_count": null,
   "id": "d9ab12ea",
   "metadata": {},
   "outputs": [],
   "source": [
    "viewer = napari.view_image(test_slice)"
   ]
  },
  {
   "cell_type": "code",
   "execution_count": null,
   "id": "feb784d8",
   "metadata": {},
   "outputs": [],
   "source": [
    "na_50_scenes_z = [(2,50),(2,40),(2,45),(3,35),(3,30),(3,24),(5,40),(5,35),(5,45)]\n",
    "na_500_scenes_z = [(3,22),(3,25),(3,31),(4,15),(4,27),(4,34),(7,24),(7,32),(7,41)]"
   ]
  },
  {
   "cell_type": "code",
   "execution_count": null,
   "id": "55530c14",
   "metadata": {},
   "outputs": [],
   "source": [
    "na_50_path = '50_mm/TIFFs'\n",
    "na_500_path = '500_mm/TIFFs'"
   ]
  },
  {
   "cell_type": "code",
   "execution_count": null,
   "id": "4d13e177",
   "metadata": {},
   "outputs": [],
   "source": [
    "for i in na_50_scenes_z:\n",
    "    scene, z = i\n",
    "    slice = np.squeeze(na_50_czi.read_image(S=scene-1,Z=z-1)[0])\n",
    "    sk.io.imsave(os.path.join(na_50_path,'wt_tom20_gfp_day1_50mm_scene'+str(scene)+'_z'+str(z)+'.tiff'),slice,check_contrast=False)"
   ]
  },
  {
   "cell_type": "code",
   "execution_count": null,
   "id": "881e6f1b",
   "metadata": {},
   "outputs": [],
   "source": [
    "for i in na_500_scenes_z:\n",
    "    scene, z = i\n",
    "    slice = np.squeeze(na_500_czi.read_image(S=scene-1,Z=z-1)[0])\n",
    "    sk.io.imsave(os.path.join(na_500_path,'wt_tom20_gfp_day1_500mm_scene'+str(scene)+'_z'+str(z)+'.tiff'),slice,check_contrast=False)"
   ]
  },
  {
   "cell_type": "code",
   "execution_count": null,
   "id": "a91f1f20",
   "metadata": {},
   "outputs": [],
   "source": [
    "na_50_images_files = sorted(glob('50_mm/TIFFs/*.tiff'))\n",
    "na_50_masks_files = sorted(glob('50_mm/Masks/*.tif'))\n",
    "na_500_images_files = sorted(glob('500_mm/TIFFs/*.tiff'))\n",
    "na_500_masks_files = sorted(glob('500_mm/Masks/*.tif'))"
   ]
  },
  {
   "cell_type": "code",
   "execution_count": null,
   "id": "71ccac0b",
   "metadata": {},
   "outputs": [],
   "source": [
    "na_50_images = list(map(sk.io.imread,na_50_images_files))\n",
    "na_50_masks = list(map(sk.io.imread,na_50_masks_files))\n",
    "na_500_images = list(map(sk.io.imread,na_500_images_files))\n",
    "na_500_masks = list(map(sk.io.imread,na_500_masks_files))"
   ]
  },
  {
   "cell_type": "code",
   "execution_count": null,
   "id": "799ccf44",
   "metadata": {},
   "outputs": [],
   "source": []
  },
  {
   "cell_type": "code",
   "execution_count": null,
   "id": "d60afe1a",
   "metadata": {},
   "outputs": [],
   "source": [
    "na_50_masked = [na_50_masks[i]*na_50_images[i] for i in range(len(na_50_images))]\n",
    "na_500_masked = [na_500_masks[i]*na_500_images[i] for i in range(len(na_500_images))]"
   ]
  },
  {
   "cell_type": "code",
   "execution_count": null,
   "id": "01d12492",
   "metadata": {},
   "outputs": [],
   "source": [
    "viewer = napari.view_image(na_50_masked[0],name='masked image')"
   ]
  },
  {
   "cell_type": "code",
   "execution_count": null,
   "id": "eb560222",
   "metadata": {},
   "outputs": [],
   "source": [
    "test = na_50_masked[0]\n",
    "clahe = sk.exposure.equalize_adapthist(test)"
   ]
  },
  {
   "cell_type": "code",
   "execution_count": null,
   "id": "2f7b667f",
   "metadata": {},
   "outputs": [],
   "source": [
    "sobel = sk.filters.sobel(clahe)\n",
    "laplace = sk.filters.laplace(clahe)\n",
    "roberts = sk.filters.roberts(clahe)\n"
   ]
  },
  {
   "cell_type": "code",
   "execution_count": null,
   "id": "957567a1",
   "metadata": {},
   "outputs": [],
   "source": [
    "fig, axes = plt.subplots(1,2,figsize=(10,5))\n",
    "axes[1].imshow(sobel,cmap=plt.cm.gray)\n",
    "axes[1].set_axis_off()\n",
    "axes[0].imshow(test,cmap=plt.cm.gray)\n",
    "axes[0].set_axis_off()\n"
   ]
  },
  {
   "cell_type": "code",
   "execution_count": null,
   "id": "dce30d17",
   "metadata": {},
   "outputs": [],
   "source": [
    "viewer = napari.view_image(clahe, name='adapthist')\n",
    "viewer.add_image(test,name='img')\n",
    "viewer.add_image(sobel,name='sobel')\n",
    "viewer.add_image(laplace,name='laplace')\n",
    "viewer.add_image(roberts,name='roberts')"
   ]
  },
  {
   "cell_type": "code",
   "execution_count": null,
   "id": "78eca1d7",
   "metadata": {},
   "outputs": [],
   "source": [
    "fig, ax = sk.filters.try_all_threshold(test, figsize=(10,6))"
   ]
  },
  {
   "cell_type": "code",
   "execution_count": null,
   "id": "1a85c4cc",
   "metadata": {},
   "outputs": [],
   "source": [
    "iso_data = test > sk.filters.threshold_isodata(test)\n",
    "otsu = test > sk.filters.threshold_otsu(test)"
   ]
  },
  {
   "cell_type": "code",
   "execution_count": null,
   "id": "5397d572",
   "metadata": {},
   "outputs": [],
   "source": [
    "viewer = napari.view_image(test,name='img')\n",
    "viewer.add_image(iso_data,name='iso')\n",
    "viewer.add_image(otsu,name='otsu')"
   ]
  },
  {
   "cell_type": "code",
   "execution_count": null,
   "id": "c0f8132c",
   "metadata": {},
   "outputs": [],
   "source": [
    "sato_black = sk.filters.sato(test)\n",
    "sato_white = sk.filters.sato(test,black_ridges=False)"
   ]
  },
  {
   "cell_type": "code",
   "execution_count": null,
   "id": "8da2dc99",
   "metadata": {},
   "outputs": [],
   "source": [
    "hessian = sk.filters.hessian(test,black_ridges=False)\n"
   ]
  },
  {
   "cell_type": "code",
   "execution_count": null,
   "id": "b19c10e2",
   "metadata": {},
   "outputs": [],
   "source": [
    "viewer = napari.view_image(test,name='img')\n",
    "viewer.add_image(sato_black,name='black')\n",
    "viewer.add_image(sato_white,name='white')"
   ]
  },
  {
   "cell_type": "code",
   "execution_count": null,
   "id": "4ca3c864",
   "metadata": {},
   "outputs": [],
   "source": [
    "viewer = napari.view_image(test,name='img')\n",
    "viewer.add_image(hessian,name='hessian')"
   ]
  },
  {
   "cell_type": "code",
   "execution_count": null,
   "id": "77a94b55",
   "metadata": {},
   "outputs": [],
   "source": [
    "gaussian = sk.filters.gaussian(test,)"
   ]
  },
  {
   "cell_type": "code",
   "execution_count": 3,
   "id": "f1fd9b03",
   "metadata": {},
   "outputs": [],
   "source": [
    "#Quick starDist test\n",
    "X = imread('Cropped_ROI_stardist_test.tif')"
   ]
  },
  {
   "cell_type": "code",
   "execution_count": 4,
   "id": "f9d3624f",
   "metadata": {},
   "outputs": [
    {
     "name": "stdout",
     "output_type": "stream",
     "text": [
      "Normalizing image channels independently.\n"
     ]
    }
   ],
   "source": [
    "n_channel = 1 if X[0].ndim == 2 else X[0].shape[-1]\n",
    "axis_norm = (0,1)   # normalize channels independently\n",
    "# axis_norm = (0,1,2) # normalize channels jointly\n",
    "if n_channel > 1:\n",
    "    print(\"Normalizing image channels %s.\" % ('jointly' if axis_norm is None or 2 in axis_norm else 'independently'))"
   ]
  },
  {
   "cell_type": "code",
   "execution_count": 2,
   "id": "25fc392d",
   "metadata": {},
   "outputs": [
    {
     "name": "stdout",
     "output_type": "stream",
     "text": [
      "There are 4 registered models for 'StarDist2D':\n",
      "\n",
      "Name                  Alias(es)\n",
      "────                  ─────────\n",
      "'2D_versatile_fluo'   'Versatile (fluorescent nuclei)'\n",
      "'2D_versatile_he'     'Versatile (H&E nuclei)'\n",
      "'2D_paper_dsb2018'    'DSB 2018 (from StarDist 2D paper)'\n",
      "'2D_demo'             None\n"
     ]
    }
   ],
   "source": [
    "StarDist2D.from_pretrained()"
   ]
  },
  {
   "cell_type": "code",
   "execution_count": 3,
   "id": "7d551cae",
   "metadata": {},
   "outputs": [
    {
     "name": "stdout",
     "output_type": "stream",
     "text": [
      "Found model '2D_versatile_fluo' for 'StarDist2D'.\n"
     ]
    },
    {
     "ename": "OSError",
     "evalue": "[WinError 1314] A required privilege is not held by the client: '2D_versatile_fluo_extracted' -> 'C:\\\\Users\\\\kristin.gallik\\\\.keras\\\\models\\\\StarDist2D\\\\2D_versatile_fluo\\\\2D_versatile_fluo'",
     "output_type": "error",
     "traceback": [
      "\u001b[1;31m---------------------------------------------------------------------------\u001b[0m",
      "\u001b[1;31mOSError\u001b[0m                                   Traceback (most recent call last)",
      "Cell \u001b[1;32mIn[3], line 1\u001b[0m\n\u001b[1;32m----> 1\u001b[0m model \u001b[38;5;241m=\u001b[39m StarDist2D\u001b[38;5;241m.\u001b[39mfrom_pretrained(\u001b[38;5;124m'\u001b[39m\u001b[38;5;124m2D_versatile_fluo\u001b[39m\u001b[38;5;124m'\u001b[39m)\n",
      "File \u001b[1;32mc:\\ProgramData\\anaconda3\\envs\\stardist\\Lib\\site-packages\\csbdeep\\models\\base_model.py:130\u001b[0m, in \u001b[0;36mBaseModel.from_pretrained\u001b[1;34m(cls, name_or_alias)\u001b[0m\n\u001b[0;32m    128\u001b[0m \u001b[38;5;28;01mtry\u001b[39;00m:\n\u001b[0;32m    129\u001b[0m     get_model_details(\u001b[38;5;28mcls\u001b[39m, name_or_alias, verbose\u001b[38;5;241m=\u001b[39m\u001b[38;5;28;01mTrue\u001b[39;00m)\n\u001b[1;32m--> 130\u001b[0m     \u001b[38;5;28;01mreturn\u001b[39;00m get_model_instance(\u001b[38;5;28mcls\u001b[39m, name_or_alias)\n\u001b[0;32m    131\u001b[0m \u001b[38;5;28;01mexcept\u001b[39;00m \u001b[38;5;167;01mValueError\u001b[39;00m \u001b[38;5;28;01mas\u001b[39;00m e:\n\u001b[0;32m    132\u001b[0m     \u001b[38;5;28;01mif\u001b[39;00m name_or_alias \u001b[38;5;129;01mis\u001b[39;00m \u001b[38;5;129;01mnot\u001b[39;00m \u001b[38;5;28;01mNone\u001b[39;00m:\n",
      "File \u001b[1;32mc:\\ProgramData\\anaconda3\\envs\\stardist\\Lib\\site-packages\\csbdeep\\models\\pretrained.py:116\u001b[0m, in \u001b[0;36mget_model_instance\u001b[1;34m(cls, key_or_alias)\u001b[0m\n\u001b[0;32m    115\u001b[0m \u001b[38;5;28;01mdef\u001b[39;00m\u001b[38;5;250m \u001b[39m\u001b[38;5;21mget_model_instance\u001b[39m(\u001b[38;5;28mcls\u001b[39m, key_or_alias):\n\u001b[1;32m--> 116\u001b[0m     path \u001b[38;5;241m=\u001b[39m get_model_folder(\u001b[38;5;28mcls\u001b[39m, key_or_alias)\n\u001b[0;32m    117\u001b[0m     model \u001b[38;5;241m=\u001b[39m \u001b[38;5;28mcls\u001b[39m(config\u001b[38;5;241m=\u001b[39m\u001b[38;5;28;01mNone\u001b[39;00m, name\u001b[38;5;241m=\u001b[39mpath\u001b[38;5;241m.\u001b[39mstem, basedir\u001b[38;5;241m=\u001b[39mpath\u001b[38;5;241m.\u001b[39mparent)\n\u001b[0;32m    118\u001b[0m     model\u001b[38;5;241m.\u001b[39mbasedir \u001b[38;5;241m=\u001b[39m \u001b[38;5;28;01mNone\u001b[39;00m \u001b[38;5;66;03m# make read-only\u001b[39;00m\n",
      "File \u001b[1;32mc:\\ProgramData\\anaconda3\\envs\\stardist\\Lib\\site-packages\\csbdeep\\models\\pretrained.py:108\u001b[0m, in \u001b[0;36mget_model_folder\u001b[1;34m(cls, key_or_alias)\u001b[0m\n\u001b[0;32m    106\u001b[0m         path_folder \u001b[38;5;241m=\u001b[39m path_folder\u001b[38;5;241m.\u001b[39mwith_name(path_folder\u001b[38;5;241m.\u001b[39mname[:\u001b[38;5;241m-\u001b[39m\u001b[38;5;28mlen\u001b[39m(suffix)])\n\u001b[0;32m    107\u001b[0m         \u001b[38;5;28;01mif\u001b[39;00m \u001b[38;5;129;01mnot\u001b[39;00m path_folder\u001b[38;5;241m.\u001b[39mexists():\n\u001b[1;32m--> 108\u001b[0m             path_folder\u001b[38;5;241m.\u001b[39msymlink_to(path\u001b[38;5;241m.\u001b[39mrelative_to(path\u001b[38;5;241m.\u001b[39mparent))\n\u001b[0;32m    109\u001b[0m \u001b[38;5;28;01melse\u001b[39;00m:\n\u001b[0;32m    110\u001b[0m     path_folder \u001b[38;5;241m=\u001b[39m path\u001b[38;5;241m.\u001b[39mparent\n",
      "File \u001b[1;32mc:\\ProgramData\\anaconda3\\envs\\stardist\\Lib\\pathlib.py:1386\u001b[0m, in \u001b[0;36mPath.symlink_to\u001b[1;34m(self, target, target_is_directory)\u001b[0m\n\u001b[0;32m   1384\u001b[0m \u001b[38;5;28;01mif\u001b[39;00m \u001b[38;5;129;01mnot\u001b[39;00m \u001b[38;5;28mhasattr\u001b[39m(os, \u001b[38;5;124m\"\u001b[39m\u001b[38;5;124msymlink\u001b[39m\u001b[38;5;124m\"\u001b[39m):\n\u001b[0;32m   1385\u001b[0m     \u001b[38;5;28;01mraise\u001b[39;00m \u001b[38;5;167;01mNotImplementedError\u001b[39;00m(\u001b[38;5;124m\"\u001b[39m\u001b[38;5;124mos.symlink() not available on this system\u001b[39m\u001b[38;5;124m\"\u001b[39m)\n\u001b[1;32m-> 1386\u001b[0m os\u001b[38;5;241m.\u001b[39msymlink(target, \u001b[38;5;28mself\u001b[39m, target_is_directory)\n",
      "\u001b[1;31mOSError\u001b[0m: [WinError 1314] A required privilege is not held by the client: '2D_versatile_fluo_extracted' -> 'C:\\\\Users\\\\kristin.gallik\\\\.keras\\\\models\\\\StarDist2D\\\\2D_versatile_fluo\\\\2D_versatile_fluo'"
     ]
    }
   ],
   "source": [
    "model = StarDist2D.from_pretrained('2D_versatile_fluo')"
   ]
  },
  {
   "cell_type": "code",
   "execution_count": null,
   "id": "f372c499",
   "metadata": {},
   "outputs": [],
   "source": []
  }
 ],
 "metadata": {
  "kernelspec": {
   "display_name": "StarDistGPU",
   "language": "python",
   "name": "stardistgpu"
  },
  "language_info": {
   "codemirror_mode": {
    "name": "ipython",
    "version": 3
   },
   "file_extension": ".py",
   "mimetype": "text/x-python",
   "name": "python",
   "nbconvert_exporter": "python",
   "pygments_lexer": "ipython3",
   "version": "3.12.9"
  }
 },
 "nbformat": 4,
 "nbformat_minor": 5
}
